{
  "nbformat": 4,
  "nbformat_minor": 0,
  "metadata": {
    "colab": {
      "provenance": []
    },
    "kernelspec": {
      "name": "python3",
      "display_name": "Python 3"
    },
    "language_info": {
      "name": "python"
    }
  },
  "cells": [
    {
      "cell_type": "code",
      "execution_count": 1,
      "metadata": {
        "id": "N_ZaTc5-37bW"
      },
      "outputs": [],
      "source": [
        "#Import the 're' module for regular expressions\n",
        "import re"
      ]
    },
    {
      "cell_type": "code",
      "source": [
        "#Define Predefined Rules and Responses\n",
        "\n",
        "# Predefined rules and responses\n",
        "rules = {\n",
        "    r'.*(hi|hello|hey|greetings).*': ['Hello!', 'Hi there!', 'Hey!'],\n",
        "    r'.*(how are you|how are you doing|what\\'s up|how\\'s it going).*': ['I am just a computer program, so I don\\'t have feelings, but I\\'m here to assist you!', 'I don\\'t have feelings, but I\\'m here and ready to help!'],\n",
        "    r'.*(bye|goodbye|see you|farewell).*': ['Goodbye!', 'See you later!', 'Have a great day!'],\n",
        "    r'.*(name|your name|who are you).*': ['I am a chatbot created by Mr.Naresh Bista'],\n",
        "    r'.*(help me|assist me).*': ['Of course! I\\'m here to help. What do you need assistance with?', 'Certainly! I can assist you. What do you need help with?'],\n",
        "    r'.*(joke|tell me a joke).*': [\n",
        "        'Sure, here\\'s a joke: Why did the chicken cross the road? To get to the other side!',\n",
        "        'Here\\'s one: Why don\\'t scientists trust atoms? Because they make up everything!',\n",
        "        'How about this one: Did you hear about the mathematician who’s afraid of negative numbers? He will stop at nothing to avoid them!'\n",
        "    ],\n",
        "    r'.*(thanks|thank you|appreciate it).*': ['You\\'re welcome!', 'No problem, happy to help!', 'Anytime!']\n",
        "}\n",
        "\n",
        "# Define chatbot function\n",
        "def simple_chatbot(user_input):\n",
        "    # Matching user input with predefined rules (case-insensitive)\n",
        "    for pattern, responses in rules.items():\n",
        "        if re.match(pattern, user_input, re.IGNORECASE):\n",
        "            return responses\n",
        "\n",
        "    # Default response if no match is found\n",
        "    return ['I\\'m sorry, I didn\\'t understand that. Can you please rephrase?', 'I didn\\'t get that. Can you try again?', 'I\\'m not sure what you mean.']\n",
        "\n",
        "\n",
        "#Interactive Conversation Function and Conversation Loop\n",
        "\n",
        "# Third Code Cell (Interactive Conversation Function and Conversation Loop):\n",
        "def interactive_conversation():\n",
        "    print(\"Chatbot: Hi! How can I assist you today? (type 'exit' to end)\")\n",
        "\n",
        "    while True:\n",
        "        user_input = input(\"You: \")\n",
        "        if user_input.lower() == 'exit':\n",
        "            print(\"Chatbot: Goodbye! Have a great day!\")\n",
        "            restart = input(\"Chatbot: If you want to chat again, type 'start'. If you want to exit, type 'exit'.\\nYou: \")\n",
        "            if restart.lower() == 'start':\n",
        "                print(\"Chatbot: Let's start again!\")\n",
        "            elif restart.lower() == 'exit':\n",
        "                print(\"Chatbot: Thank you for chatting with me! I hope I was able to assist you. Have a great day!\")\n",
        "                break\n",
        "            else:\n",
        "                print(\"Chatbot: I'm sorry, I didn't understand that. Please type 'start' to chat again or 'exit' to end.\")\n",
        "        else:\n",
        "            response = simple_chatbot(user_input)\n",
        "            print(\"Chatbot:\", response[0])\n",
        "\n",
        "# Call the interactive conversation function to start chatting\n",
        "interactive_conversation()\n"
      ],
      "metadata": {
        "colab": {
          "base_uri": "https://localhost:8080/"
        },
        "id": "48Cuwfsk4dVb",
        "outputId": "552a412f-6a23-467f-c9d9-ea0aa553aba3"
      },
      "execution_count": 5,
      "outputs": [
        {
          "output_type": "stream",
          "name": "stdout",
          "text": [
            "Chatbot: Hi! How can I assist you today? (type 'exit' to end)\n",
            "You: hey\n",
            "Chatbot: Hello!\n",
            "You: your name\n",
            "Chatbot: I am a chatbot created by Mr.Naresh Bista\n",
            "You: how are you\n",
            "Chatbot: I am just a computer program, so I don't have feelings, but I'm here to assist you!\n",
            "You: help me\n",
            "Chatbot: Of course! I'm here to help. What do you need assistance with?\n",
            "You: thank you\n",
            "Chatbot: You're welcome!\n",
            "You: tell me a joke\n",
            "Chatbot: Sure, here's a joke: Why did the chicken cross the road? To get to the other side!\n",
            "You: what are your interests?\n",
            "Chatbot: I'm sorry, I didn't understand that. Can you please rephrase?\n",
            "You: bye\n",
            "Chatbot: Goodbye!\n",
            "You: exit\n",
            "Chatbot: Goodbye! Have a great day!\n",
            "Chatbot: If you want to chat again, type 'start'. If you want to exit, type 'exit'.\n",
            "You: exit\n",
            "Chatbot: Thank you for chatting with me! I hope I was able to assist you. Have a great day!\n"
          ]
        }
      ]
    },
    {
      "cell_type": "code",
      "source": [],
      "metadata": {
        "id": "EcO3ALIg4dgI"
      },
      "execution_count": null,
      "outputs": []
    }
  ]
}